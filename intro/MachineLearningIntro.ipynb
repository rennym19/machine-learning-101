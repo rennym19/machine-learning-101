{
 "cells": [
  {
   "attachments": {},
   "cell_type": "markdown",
   "metadata": {},
   "source": [
    "# Machine Learning 101\n",
    "\n",
    "It is very likely that you've already heard about Machine Learning (ML) at this point of the 21st century. This technology is all around us, powering the simple apps we use everyday in our phones and computers, as well as being present in highly important tools used in our economies, industries, scientific research and so forth.\n",
    "\n",
    "Machine Learning relates to the creation of systems that learn from past experiences without any harcoded rules, which actually lets machines \"behave\" more like us humans. At its core ML is about Mathematical Optimization: it tries to find the best possible values for some function, taking into account a specific set of previous cases, in order to predict future cases succesfully (or at least with a very high rate of accuracy). This is where things like datasets, objective functions, cost functions, models, weights and biases come into play, but let's forget about them for a moment.\n",
    "\n",
    "\n",
    "## Machine Learning Algorithms\n",
    "\n",
    "<img src=\"img/learning.png\">\n",
    "\n",
    "As you may know, there is no ultimate, one-size-fits-all recipe for learning. The inner workings of our brains are very tricky to understand, so the way we see it, we just learn, and that's it. We might have different techniques for learning but at the end, we're just telling ourselves to form clusters of neurons representing specific information. In the case of computers, we know we have to be very specific with our instructions, else, everything is going to become a mess! Hence, Machine Learning Algorithms were born! \n",
    "\n",
    "Of course, different problems come with different requirements and can only be solved in different ways, that's why there is a huge (and I mean huge) number of Machine Learning Algorithms available out there. While solving a problem with traditional programming depends on the nature and characteristics of said problem, the process of accurately learning from past experiences in Machine Learning depends on the relationships present on our dataset! Predicting the weather for tomorrow is not the same as predicting stock prices, they have entirely different datasets and would probably need different algorithms. These algorithms are grouped in separate types too, the most common being the following:\n",
    "    \n",
    "    1. Supervised Learning: computer learns from data that is \"labeled\", where both the input and output variables are  provided at the moment of training. \n",
    "    2. Unsupervised Learning: only input variables are provided. The goal is to find some kind of \"structure\" and form groups that can relate aspects of the dataset together.\n",
    "\n",
    "\n",
    "## Elements of Machine Learning Algorithms\n",
    "\n",
    "<img src=\"img/math-blackboard.jpg\">\n",
    "\n",
    "Remember what Machine Learning was about, right? Mathematical Optimization! That's the reason why all we're trying to do is to find a (mathematical) relationship between input and output variables, so that we can predict future cases accurately. Deep down, computers only understand numbers! Everything needs to be as specific and precise as possible when it comes to describing \"learning\", which can only be done numerically.\n",
    "\n",
    "It doesn't matter wheter we want computers to learn to predict the price of a car, or the age of a person, or the score on a test... Every single problem in ML has an input, parameters, a function known as \"hypothesis\" and outputs.\n",
    "\n",
    "The inputs are pretty much self-explanatory: they're unique aspects of something that affect the final prediction or result(the output). Meanwhile, the parameters and hypothesis deserve a better explanation:\n",
    "\n",
    "A hypothesis is a representation for the relation between an input and an output. The reason why it's known as hypothesis is because it isn't totally exact when calculating the outputs, it's just a \"best guess\" found when machine learning algorithms are applied. \n",
    "\n",
    "The real function is unknown and we want to make the hypothesis as accurate as possible. In order to do so, we need to tune in some \"parameters\", also known as \"weights\", that affect the hypothesis' output. The way I like to see it, is that the parameters of the hypothesis have the goal of setting the relevance for each and every single input variable! Some of them will have a very large \"weight\" (aka importance) and some of them will not. After we apply our Learning Algorithm, we will actually end up with a vector (list) of parameters that will create a new hypothesis, more accurate than before!"
   ]
  },
  {
   "cell_type": "code",
   "execution_count": null,
   "metadata": {},
   "outputs": [],
   "source": []
  }
 ],
 "metadata": {
  "kernelspec": {
   "display_name": "Python 3",
   "language": "python",
   "name": "python3"
  },
  "language_info": {
   "codemirror_mode": {
    "name": "ipython",
    "version": 3
   },
   "file_extension": ".py",
   "mimetype": "text/x-python",
   "name": "python",
   "nbconvert_exporter": "python",
   "pygments_lexer": "ipython3",
   "version": "3.6.5"
  }
 },
 "nbformat": 4,
 "nbformat_minor": 2
}
